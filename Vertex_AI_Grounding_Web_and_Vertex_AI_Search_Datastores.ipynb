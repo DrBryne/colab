{
  "nbformat": 4,
  "nbformat_minor": 0,
  "metadata": {
    "colab": {
      "provenance": [],
      "include_colab_link": true
    },
    "kernelspec": {
      "name": "python3",
      "display_name": "Python 3"
    },
    "language_info": {
      "name": "python"
    }
  },
  "cells": [
    {
      "cell_type": "markdown",
      "metadata": {
        "id": "view-in-github",
        "colab_type": "text"
      },
      "source": [
        "<a href=\"https://colab.research.google.com/github/DrBryne/colab/blob/main/Vertex_AI_Grounding_Web_and_Vertex_AI_Search_Datastores.ipynb\" target=\"_parent\"><img src=\"https://colab.research.google.com/assets/colab-badge.svg\" alt=\"Open In Colab\"/></a>"
      ]
    },
    {
      "cell_type": "code",
      "source": [
        "# Copyright 2023 Google LLC\n",
        "#\n",
        "# Licensed under the Apache License, Version 2.0 (the \"License\");\n",
        "# you may not use this file except in compliance with the License.\n",
        "# You may obtain a copy of the License at\n",
        "#\n",
        "#     https://www.apache.org/licenses/LICENSE-2.0\n",
        "#\n",
        "# Unless required by applicable law or agreed to in writing, software\n",
        "# distributed under the License is distributed on an \"AS IS\" BASIS,\n",
        "# WITHOUT WARRANTIES OR CONDITIONS OF ANY KIND, either express or implied.\n",
        "# See the License for the specific language governing permissions and\n",
        "# limitations under the License."
      ],
      "metadata": {
        "id": "JFMpG7Em69iI"
      },
      "execution_count": null,
      "outputs": []
    },
    {
      "cell_type": "markdown",
      "source": [
        "# Vertex AI Grounding for PaLM LLM\n",
        "\n",
        "This notebook explores the Python libraries for Vertex AI Grounding.\n",
        "\n",
        "\n",
        "| | |\n",
        "|----------|-------------|\n",
        "| Author(s)   | Mandie Quartly (mandieq@), Victor Dantas (vdantas@) |\n",
        "| Last update | 2023-12-06 Added grounding on Vertex AI Search datastore |"
      ],
      "metadata": {
        "id": "HdZQAjc_K2GE"
      }
    },
    {
      "cell_type": "code",
      "execution_count": 1,
      "metadata": {
        "id": "xrXMzStz8ZNM",
        "outputId": "9785be46-13d4-4321-b9e1-7542d117728e",
        "colab": {
          "base_uri": "https://localhost:8080/"
        }
      },
      "outputs": [
        {
          "output_type": "stream",
          "name": "stdout",
          "text": [
            "Requirement already satisfied: google-cloud-aiplatform in /usr/local/lib/python3.10/dist-packages (1.38.1)\n",
            "Requirement already satisfied: google-api-core[grpc]!=2.0.*,!=2.1.*,!=2.2.*,!=2.3.*,!=2.4.*,!=2.5.*,!=2.6.*,!=2.7.*,<3.0.0dev,>=1.32.0 in /usr/local/lib/python3.10/dist-packages (from google-cloud-aiplatform) (2.11.1)\n",
            "Requirement already satisfied: proto-plus<2.0.0dev,>=1.22.0 in /usr/local/lib/python3.10/dist-packages (from google-cloud-aiplatform) (1.23.0)\n",
            "Requirement already satisfied: protobuf!=3.20.0,!=3.20.1,!=4.21.0,!=4.21.1,!=4.21.2,!=4.21.3,!=4.21.4,!=4.21.5,<5.0.0dev,>=3.19.5 in /usr/local/lib/python3.10/dist-packages (from google-cloud-aiplatform) (3.20.3)\n",
            "Requirement already satisfied: packaging>=14.3 in /usr/local/lib/python3.10/dist-packages (from google-cloud-aiplatform) (23.2)\n",
            "Requirement already satisfied: google-cloud-storage<3.0.0dev,>=1.32.0 in /usr/local/lib/python3.10/dist-packages (from google-cloud-aiplatform) (2.8.0)\n",
            "Requirement already satisfied: google-cloud-bigquery<4.0.0dev,>=1.15.0 in /usr/local/lib/python3.10/dist-packages (from google-cloud-aiplatform) (3.12.0)\n",
            "Requirement already satisfied: google-cloud-resource-manager<3.0.0dev,>=1.3.3 in /usr/local/lib/python3.10/dist-packages (from google-cloud-aiplatform) (1.11.0)\n",
            "Requirement already satisfied: shapely<3.0.0dev in /usr/local/lib/python3.10/dist-packages (from google-cloud-aiplatform) (2.0.2)\n",
            "Requirement already satisfied: googleapis-common-protos<2.0.dev0,>=1.56.2 in /usr/local/lib/python3.10/dist-packages (from google-api-core[grpc]!=2.0.*,!=2.1.*,!=2.2.*,!=2.3.*,!=2.4.*,!=2.5.*,!=2.6.*,!=2.7.*,<3.0.0dev,>=1.32.0->google-cloud-aiplatform) (1.62.0)\n",
            "Requirement already satisfied: google-auth<3.0.dev0,>=2.14.1 in /usr/local/lib/python3.10/dist-packages (from google-api-core[grpc]!=2.0.*,!=2.1.*,!=2.2.*,!=2.3.*,!=2.4.*,!=2.5.*,!=2.6.*,!=2.7.*,<3.0.0dev,>=1.32.0->google-cloud-aiplatform) (2.17.3)\n",
            "Requirement already satisfied: requests<3.0.0.dev0,>=2.18.0 in /usr/local/lib/python3.10/dist-packages (from google-api-core[grpc]!=2.0.*,!=2.1.*,!=2.2.*,!=2.3.*,!=2.4.*,!=2.5.*,!=2.6.*,!=2.7.*,<3.0.0dev,>=1.32.0->google-cloud-aiplatform) (2.31.0)\n",
            "Requirement already satisfied: grpcio<2.0dev,>=1.33.2 in /usr/local/lib/python3.10/dist-packages (from google-api-core[grpc]!=2.0.*,!=2.1.*,!=2.2.*,!=2.3.*,!=2.4.*,!=2.5.*,!=2.6.*,!=2.7.*,<3.0.0dev,>=1.32.0->google-cloud-aiplatform) (1.60.0)\n",
            "Requirement already satisfied: grpcio-status<2.0.dev0,>=1.33.2 in /usr/local/lib/python3.10/dist-packages (from google-api-core[grpc]!=2.0.*,!=2.1.*,!=2.2.*,!=2.3.*,!=2.4.*,!=2.5.*,!=2.6.*,!=2.7.*,<3.0.0dev,>=1.32.0->google-cloud-aiplatform) (1.48.2)\n",
            "Requirement already satisfied: google-cloud-core<3.0.0dev,>=1.6.0 in /usr/local/lib/python3.10/dist-packages (from google-cloud-bigquery<4.0.0dev,>=1.15.0->google-cloud-aiplatform) (2.3.3)\n",
            "Requirement already satisfied: google-resumable-media<3.0dev,>=0.6.0 in /usr/local/lib/python3.10/dist-packages (from google-cloud-bigquery<4.0.0dev,>=1.15.0->google-cloud-aiplatform) (2.7.0)\n",
            "Requirement already satisfied: python-dateutil<3.0dev,>=2.7.2 in /usr/local/lib/python3.10/dist-packages (from google-cloud-bigquery<4.0.0dev,>=1.15.0->google-cloud-aiplatform) (2.8.2)\n",
            "Requirement already satisfied: grpc-google-iam-v1<1.0.0dev,>=0.12.4 in /usr/local/lib/python3.10/dist-packages (from google-cloud-resource-manager<3.0.0dev,>=1.3.3->google-cloud-aiplatform) (0.13.0)\n",
            "Requirement already satisfied: numpy>=1.14 in /usr/local/lib/python3.10/dist-packages (from shapely<3.0.0dev->google-cloud-aiplatform) (1.23.5)\n",
            "Requirement already satisfied: cachetools<6.0,>=2.0.0 in /usr/local/lib/python3.10/dist-packages (from google-auth<3.0.dev0,>=2.14.1->google-api-core[grpc]!=2.0.*,!=2.1.*,!=2.2.*,!=2.3.*,!=2.4.*,!=2.5.*,!=2.6.*,!=2.7.*,<3.0.0dev,>=1.32.0->google-cloud-aiplatform) (5.3.2)\n",
            "Requirement already satisfied: pyasn1-modules>=0.2.1 in /usr/local/lib/python3.10/dist-packages (from google-auth<3.0.dev0,>=2.14.1->google-api-core[grpc]!=2.0.*,!=2.1.*,!=2.2.*,!=2.3.*,!=2.4.*,!=2.5.*,!=2.6.*,!=2.7.*,<3.0.0dev,>=1.32.0->google-cloud-aiplatform) (0.3.0)\n",
            "Requirement already satisfied: six>=1.9.0 in /usr/local/lib/python3.10/dist-packages (from google-auth<3.0.dev0,>=2.14.1->google-api-core[grpc]!=2.0.*,!=2.1.*,!=2.2.*,!=2.3.*,!=2.4.*,!=2.5.*,!=2.6.*,!=2.7.*,<3.0.0dev,>=1.32.0->google-cloud-aiplatform) (1.16.0)\n",
            "Requirement already satisfied: rsa<5,>=3.1.4 in /usr/local/lib/python3.10/dist-packages (from google-auth<3.0.dev0,>=2.14.1->google-api-core[grpc]!=2.0.*,!=2.1.*,!=2.2.*,!=2.3.*,!=2.4.*,!=2.5.*,!=2.6.*,!=2.7.*,<3.0.0dev,>=1.32.0->google-cloud-aiplatform) (4.9)\n",
            "Requirement already satisfied: google-crc32c<2.0dev,>=1.0 in /usr/local/lib/python3.10/dist-packages (from google-resumable-media<3.0dev,>=0.6.0->google-cloud-bigquery<4.0.0dev,>=1.15.0->google-cloud-aiplatform) (1.5.0)\n",
            "Requirement already satisfied: charset-normalizer<4,>=2 in /usr/local/lib/python3.10/dist-packages (from requests<3.0.0.dev0,>=2.18.0->google-api-core[grpc]!=2.0.*,!=2.1.*,!=2.2.*,!=2.3.*,!=2.4.*,!=2.5.*,!=2.6.*,!=2.7.*,<3.0.0dev,>=1.32.0->google-cloud-aiplatform) (3.3.2)\n",
            "Requirement already satisfied: idna<4,>=2.5 in /usr/local/lib/python3.10/dist-packages (from requests<3.0.0.dev0,>=2.18.0->google-api-core[grpc]!=2.0.*,!=2.1.*,!=2.2.*,!=2.3.*,!=2.4.*,!=2.5.*,!=2.6.*,!=2.7.*,<3.0.0dev,>=1.32.0->google-cloud-aiplatform) (3.6)\n",
            "Requirement already satisfied: urllib3<3,>=1.21.1 in /usr/local/lib/python3.10/dist-packages (from requests<3.0.0.dev0,>=2.18.0->google-api-core[grpc]!=2.0.*,!=2.1.*,!=2.2.*,!=2.3.*,!=2.4.*,!=2.5.*,!=2.6.*,!=2.7.*,<3.0.0dev,>=1.32.0->google-cloud-aiplatform) (2.0.7)\n",
            "Requirement already satisfied: certifi>=2017.4.17 in /usr/local/lib/python3.10/dist-packages (from requests<3.0.0.dev0,>=2.18.0->google-api-core[grpc]!=2.0.*,!=2.1.*,!=2.2.*,!=2.3.*,!=2.4.*,!=2.5.*,!=2.6.*,!=2.7.*,<3.0.0dev,>=1.32.0->google-cloud-aiplatform) (2023.11.17)\n",
            "Requirement already satisfied: pyasn1<0.6.0,>=0.4.6 in /usr/local/lib/python3.10/dist-packages (from pyasn1-modules>=0.2.1->google-auth<3.0.dev0,>=2.14.1->google-api-core[grpc]!=2.0.*,!=2.1.*,!=2.2.*,!=2.3.*,!=2.4.*,!=2.5.*,!=2.6.*,!=2.7.*,<3.0.0dev,>=1.32.0->google-cloud-aiplatform) (0.5.1)\n"
          ]
        }
      ],
      "source": [
        "!pip install google-cloud-aiplatform --upgrade"
      ]
    },
    {
      "cell_type": "code",
      "source": [
        "from google.colab import auth as google_auth\n",
        "google_auth.authenticate_user()"
      ],
      "metadata": {
        "id": "ZrzkUCaw9PNT"
      },
      "execution_count": 2,
      "outputs": []
    },
    {
      "cell_type": "code",
      "source": [
        "project_id = \"osp-bu-desktop-skynet\" # @param\n",
        "location = \"us-central1\" # @param\n",
        "datastore_id = \"DATASTORE ID\" # @param\n",
        "datastore_location = \"global\" # @param"
      ],
      "metadata": {
        "id": "C2bFg7N3_Yd6"
      },
      "execution_count": 23,
      "outputs": []
    },
    {
      "cell_type": "code",
      "source": [
        "import vertexai\n",
        "from vertexai.language_models import TextGenerationModel\n",
        "\n",
        "vertexai.init(project=project_id, location=location)"
      ],
      "metadata": {
        "id": "Wc-Cy-amBFLp"
      },
      "execution_count": 24,
      "outputs": []
    },
    {
      "cell_type": "markdown",
      "source": [
        "See SDK details for [predict](https://cloud.google.com/python/docs/reference/aiplatform/latest/vertexai.language_models.TextGenerationModel#vertexai_language_models_TextGenerationModel_predict)."
      ],
      "metadata": {
        "id": "O7vwesW5E0-q"
      }
    },
    {
      "cell_type": "markdown",
      "source": [
        "## Grounding Responses with Web Search"
      ],
      "metadata": {
        "id": "6irmOkOS_90f"
      }
    },
    {
      "cell_type": "code",
      "source": [
        "web = vertexai.language_models._language_models.WebSearch()"
      ],
      "metadata": {
        "id": "Ld5j1Ek5Fkun"
      },
      "execution_count": 25,
      "outputs": []
    },
    {
      "cell_type": "code",
      "source": [
        "parameters = {\n",
        "    \"candidate_count\": 1,\n",
        "    \"grounding_source\": web, # note not grounding_config per the code given in the UI\n",
        "    \"max_output_tokens\": 1024,\n",
        "    \"temperature\": 0.2,\n",
        "    \"top_p\": 0.8,\n",
        "    \"top_k\": 40\n",
        "}\n",
        "\n",
        "model = TextGenerationModel.from_pretrained(\"text-bison\")"
      ],
      "metadata": {
        "id": "0wuJevM59Ear"
      },
      "execution_count": 26,
      "outputs": []
    },
    {
      "cell_type": "code",
      "source": [
        "try:\n",
        "  response = model.predict(\n",
        "      \"\"\"Who is the CEO of Opera?\"\"\",\n",
        "      **parameters\n",
        "  )\n",
        "  print(f\"Response from Model: \\n{response.text}\")\n",
        "  print(f\"\\nCitations: \\n{response.grounding_metadata.citations}\")\n",
        "except Exception as exc:\n",
        "  print(\"ERROR:\", exc.message)\n",
        "\n"
      ],
      "metadata": {
        "colab": {
          "base_uri": "https://localhost:8080/"
        },
        "id": "Jy2cyUBZ9L5D",
        "outputId": "fa7c8ba7-6bbb-4a85-db82-4409ea315378"
      },
      "execution_count": 27,
      "outputs": [
        {
          "output_type": "stream",
          "name": "stdout",
          "text": [
            "ERROR: Permission 'aiplatform.endpoints.predict' denied on resource '//aiplatform.googleapis.com/projects/osp-bu-desktop-skynet/locations/us-central1/publishers/google/models/text-bison@002' (or it may not exist).\n"
          ]
        }
      ]
    },
    {
      "cell_type": "code",
      "source": [
        "import json\n",
        "print(json.dumps(response.raw_prediction_response, indent=2))"
      ],
      "metadata": {
        "id": "1bjJGUioHhdw",
        "colab": {
          "base_uri": "https://localhost:8080/"
        },
        "outputId": "2c0acc07-ddae-4866-ade3-b2f0a694930c"
      },
      "execution_count": 17,
      "outputs": [
        {
          "output_type": "stream",
          "name": "stdout",
          "text": [
            "[\n",
            "  [\n",
            "    {\n",
            "      \"safetyAttributes\": {\n",
            "        \"categories\": [\n",
            "          \"Derogatory\",\n",
            "          \"Finance\",\n",
            "          \"Health\",\n",
            "          \"Insult\",\n",
            "          \"Religion & Belief\",\n",
            "          \"Sexual\"\n",
            "        ],\n",
            "        \"blocked\": false,\n",
            "        \"scores\": [\n",
            "          0.1,\n",
            "          0.1,\n",
            "          0.2,\n",
            "          0.1,\n",
            "          0.3,\n",
            "          0.1\n",
            "        ],\n",
            "        \"safetyRatings\": [\n",
            "          {\n",
            "            \"severityScore\": 0.0,\n",
            "            \"severity\": \"NEGLIGIBLE\",\n",
            "            \"category\": \"Dangerous Content\",\n",
            "            \"probabilityScore\": 0.1\n",
            "          },\n",
            "          {\n",
            "            \"severityScore\": 0.1,\n",
            "            \"severity\": \"NEGLIGIBLE\",\n",
            "            \"probabilityScore\": 0.1,\n",
            "            \"category\": \"Harassment\"\n",
            "          },\n",
            "          {\n",
            "            \"probabilityScore\": 0.1,\n",
            "            \"category\": \"Hate Speech\",\n",
            "            \"severityScore\": 0.1,\n",
            "            \"severity\": \"NEGLIGIBLE\"\n",
            "          },\n",
            "          {\n",
            "            \"probabilityScore\": 0.1,\n",
            "            \"category\": \"Sexually Explicit\",\n",
            "            \"severity\": \"NEGLIGIBLE\",\n",
            "            \"severityScore\": 0.0\n",
            "          }\n",
            "        ]\n",
            "      },\n",
            "      \"citationMetadata\": {\n",
            "        \"citations\": []\n",
            "      },\n",
            "      \"content\": \" The CEOs of Opera are Zhou Yahui (Co-CEO & Chairman) and Lin Song (Co-CEO).\",\n",
            "      \"groundingMetadata\": {\n",
            "        \"groundingCancelled\": false,\n",
            "        \"citations\": [\n",
            "          {\n",
            "            \"startIndex\": 1.0,\n",
            "            \"url\": \"https://www.wikiwand.com/en/Opera_(company)\",\n",
            "            \"endIndex\": 76.0\n",
            "          }\n",
            "        ],\n",
            "        \"searchQueries\": [\n",
            "          \"Who is the CEO of Opera?\"\n",
            "        ]\n",
            "      }\n",
            "    },\n",
            "    {\n",
            "      \"groundingMetadata\": {\n",
            "        \"groundingCancelled\": false,\n",
            "        \"searchQueries\": [\n",
            "          \"Who is the CEO of Opera?\"\n",
            "        ]\n",
            "      },\n",
            "      \"content\": \" The CEO of Opera is Zhou Yahui.\",\n",
            "      \"safetyAttributes\": {\n",
            "        \"scores\": [\n",
            "          0.1,\n",
            "          0.2,\n",
            "          0.2,\n",
            "          0.2,\n",
            "          0.6,\n",
            "          0.1\n",
            "        ],\n",
            "        \"categories\": [\n",
            "          \"Derogatory\",\n",
            "          \"Finance\",\n",
            "          \"Health\",\n",
            "          \"Insult\",\n",
            "          \"Religion & Belief\",\n",
            "          \"Sexual\"\n",
            "        ],\n",
            "        \"safetyRatings\": [\n",
            "          {\n",
            "            \"severity\": \"NEGLIGIBLE\",\n",
            "            \"severityScore\": 0.0,\n",
            "            \"probabilityScore\": 0.1,\n",
            "            \"category\": \"Dangerous Content\"\n",
            "          },\n",
            "          {\n",
            "            \"severityScore\": 0.1,\n",
            "            \"category\": \"Harassment\",\n",
            "            \"severity\": \"NEGLIGIBLE\",\n",
            "            \"probabilityScore\": 0.2\n",
            "          },\n",
            "          {\n",
            "            \"category\": \"Hate Speech\",\n",
            "            \"probabilityScore\": 0.1,\n",
            "            \"severityScore\": 0.1,\n",
            "            \"severity\": \"NEGLIGIBLE\"\n",
            "          },\n",
            "          {\n",
            "            \"severity\": \"NEGLIGIBLE\",\n",
            "            \"category\": \"Sexually Explicit\",\n",
            "            \"probabilityScore\": 0.1,\n",
            "            \"severityScore\": 0.1\n",
            "          }\n",
            "        ],\n",
            "        \"blocked\": false\n",
            "      },\n",
            "      \"citationMetadata\": {\n",
            "        \"citations\": []\n",
            "      }\n",
            "    }\n",
            "  ],\n",
            "  \"\",\n",
            "  \"\",\n",
            "  \"\",\n",
            "  null\n",
            "]\n"
          ]
        }
      ]
    },
    {
      "cell_type": "markdown",
      "source": [
        "## Grounding Responses with a Vertex AI Search Datastore"
      ],
      "metadata": {
        "id": "wdBbQY5cAzMc"
      }
    },
    {
      "cell_type": "code",
      "source": [
        "query = \"how does Google make money?\" # @param"
      ],
      "metadata": {
        "id": "1IdhD8hPBG63"
      },
      "execution_count": null,
      "outputs": []
    },
    {
      "cell_type": "code",
      "source": [
        "searchclass = vertexai.language_models.GroundingSource.VertexAISearch(\n",
        "    data_store_id=datastore_id,location=datastore_location)\n",
        "\n",
        "parameters = {\n",
        "    \"candidate_count\": 1,\n",
        "    \"max_output_tokens\": 1024,\n",
        "    \"temperature\": 0,\n",
        "    \"top_p\": 0.8,\n",
        "    \"top_k\": 40,\n",
        "    \"grounding_source\":searchclass,\n",
        "}\n",
        "\n",
        "response = model.predict(query,\n",
        "    **parameters\n",
        ")\n",
        "\n",
        "src_document = None\n",
        "\n",
        "try:\n",
        "    src_document = response.grounding_metadata.citations[0].url.split('/')[-1]\n",
        "except Exception as e:\n",
        "    print(\"Could not fetch source document:\", e)\n",
        "\n",
        "print(response.text)\n",
        "if src_document:\n",
        "    print(\"\\nSource:\", src_document)"
      ],
      "metadata": {
        "colab": {
          "base_uri": "https://localhost:8080/"
        },
        "id": "s9WG0wCTA2kJ",
        "outputId": "3cde6cd8-1e4e-417d-b156-f6f0327929d1"
      },
      "execution_count": null,
      "outputs": [
        {
          "output_type": "stream",
          "name": "stdout",
          "text": [
            " Google generates revenue through various sources, including:\n",
            "\n",
            "1. Google Ads: Google's primary source of revenue comes from advertising, particularly through its search engine and other advertising platforms. Businesses pay Google to display their ads on search results pages and other websites, and Google charges based on clicks or impressions.\n",
            "\n",
            "2. Google Cloud: Google Cloud offers a range of cloud computing services, including infrastructure, platform, and software solutions, to businesses and organizations. Customers pay subscription fees or usage-based charges for these services.\n",
            "\n",
            "3. Google Workspace: Google Workspace provides cloud-based collaboration and productivity tools, such as Gmail, Docs, Drive, Calendar, and Meet, to businesses and organizations. Customers pay subscription fees for access to these tools.\n",
            "\n",
            "4. Google Play: Google Play is an app store where users can purchase and download apps, games, movies, books, and other digital content. Google takes a commission on each transaction made through Google Play.\n",
            "\n",
            "5. Hardware: Google sells hardware products, including Pixel smartphones, Nest smart home devices, and Fitbit wearables. Revenue is generated from the sale of these devices.\n",
            "\n",
            "6. YouTube: While YouTube primarily generates revenue through advertising, it also offers subscription services like YouTube Premium and YouTube TV, where users pay monthly fees for ad-free content and additional features.\n",
            "\n",
            "7. Other Services: Google also generates revenue from other sources, such as licensing fees, hardware accessories, and enterprise services.\n",
            "\n",
            "Source: Alphabet 10k Annual Report 2022.pdf\n"
          ]
        }
      ]
    },
    {
      "cell_type": "code",
      "source": [
        "response.raw_prediction_response"
      ],
      "metadata": {
        "colab": {
          "base_uri": "https://localhost:8080/"
        },
        "id": "8U3lJfiYBWF7",
        "outputId": "00b7ce34-f2c2-42d8-9d1b-8c81e05adacd"
      },
      "execution_count": null,
      "outputs": [
        {
          "output_type": "execute_result",
          "data": {
            "text/plain": [
              "Prediction(predictions=[{'groundingMetadata': {'searchQueries': ['How does Google make money?'], 'citations': [{'endIndex': 62.0, 'url': 'gs://vdantas_cloud-llm-preview3/alphabet-public-docs/Alphabet 10k Annual Report 2022.pdf', 'startIndex': 1.0}]}, 'content': \" Google generates revenue through various sources, including:\\n\\n1. Google Ads: Google's primary source of revenue comes from advertising, particularly through its search engine and other advertising platforms. Businesses pay Google to display their ads on search results pages and other websites, and Google charges based on clicks or impressions.\\n\\n2. Google Cloud: Google Cloud offers a range of cloud computing services, including infrastructure, platform, and software solutions, to businesses and organizations. Customers pay subscription fees or usage-based charges for these services.\\n\\n3. Google Workspace: Google Workspace provides cloud-based collaboration and productivity tools, such as Gmail, Docs, Drive, Calendar, and Meet, to businesses and organizations. Customers pay subscription fees for access to these tools.\\n\\n4. Google Play: Google Play is an app store where users can purchase and download apps, games, movies, books, and other digital content. Google takes a commission on each transaction made through Google Play.\\n\\n5. Hardware: Google sells hardware products, including Pixel smartphones, Nest smart home devices, and Fitbit wearables. Revenue is generated from the sale of these devices.\\n\\n6. YouTube: While YouTube primarily generates revenue through advertising, it also offers subscription services like YouTube Premium and YouTube TV, where users pay monthly fees for ad-free content and additional features.\\n\\n7. Other Services: Google also generates revenue from other sources, such as licensing fees, hardware accessories, and enterprise services.\", 'citationMetadata': {'citations': []}, 'safetyAttributes': {'blocked': False, 'safetyRatings': [{'severity': 'NEGLIGIBLE', 'severityScore': 0.0, 'probabilityScore': 0.0, 'category': 'Dangerous Content'}, {'severity': 'NEGLIGIBLE', 'severityScore': 0.0, 'probabilityScore': 0.1, 'category': 'Harassment'}, {'probabilityScore': 0.0, 'severityScore': 0.1, 'severity': 'NEGLIGIBLE', 'category': 'Hate Speech'}, {'severityScore': 0.0, 'category': 'Sexually Explicit', 'severity': 'NEGLIGIBLE', 'probabilityScore': 0.1}], 'categories': ['Finance', 'Insult', 'Sexual'], 'scores': [0.3, 0.1, 0.1]}}], deployed_model_id='', model_version_id='', model_resource_name='', explanations=None)"
            ]
          },
          "metadata": {},
          "execution_count": 15
        }
      ]
    },
    {
      "cell_type": "code",
      "source": [],
      "metadata": {
        "id": "MNoE-FJPBWTR"
      },
      "execution_count": null,
      "outputs": []
    }
  ]
}