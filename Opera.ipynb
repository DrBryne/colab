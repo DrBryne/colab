{
  "nbformat": 4,
  "nbformat_minor": 0,
  "metadata": {
    "colab": {
      "provenance": [],
      "mount_file_id": "1ITuBfbLJiX3OjW9_15t5SWEoCunJkqpf",
      "authorship_tag": "ABX9TyO+kyJBJjOV83ERJcuq3tZL",
      "include_colab_link": true
    },
    "kernelspec": {
      "name": "python3",
      "display_name": "Python 3"
    },
    "language_info": {
      "name": "python"
    }
  },
  "cells": [
    {
      "cell_type": "markdown",
      "metadata": {
        "id": "view-in-github",
        "colab_type": "text"
      },
      "source": [
        "<a href=\"https://colab.research.google.com/github/DrBryne/colab/blob/main/Opera.ipynb\" target=\"_parent\"><img src=\"https://colab.research.google.com/assets/colab-badge.svg\" alt=\"Open In Colab\"/></a>"
      ]
    },
    {
      "cell_type": "code",
      "source": [
        "!pip install \"shapely<2.0.0\"\n",
        "!pip install google-cloud-aiplatform --upgrade"
      ],
      "metadata": {
        "colab": {
          "base_uri": "https://localhost:8080/",
          "height": 880
        },
        "id": "CKHXcgZc4Ily",
        "outputId": "b2161032-b156-467c-b2aa-775a5e337ae3"
      },
      "execution_count": 1,
      "outputs": [
        {
          "output_type": "stream",
          "name": "stdout",
          "text": [
            "Collecting shapely<2.0.0\n",
            "  Downloading Shapely-1.8.5.post1-cp310-cp310-manylinux_2_12_x86_64.manylinux2010_x86_64.whl (2.0 MB)\n",
            "\u001b[2K     \u001b[90m━━━━━━━━━━━━━━━━━━━━━━━━━━━━━━━━━━━━━━━━\u001b[0m \u001b[32m2.0/2.0 MB\u001b[0m \u001b[31m7.5 MB/s\u001b[0m eta \u001b[36m0:00:00\u001b[0m\n",
            "\u001b[?25hInstalling collected packages: shapely\n",
            "  Attempting uninstall: shapely\n",
            "    Found existing installation: shapely 2.0.1\n",
            "    Uninstalling shapely-2.0.1:\n",
            "      Successfully uninstalled shapely-2.0.1\n",
            "Successfully installed shapely-1.8.5.post1\n",
            "Collecting google-cloud-aiplatform\n",
            "  Downloading google_cloud_aiplatform-1.31.1-py2.py3-none-any.whl (2.8 MB)\n",
            "\u001b[2K     \u001b[90m━━━━━━━━━━━━━━━━━━━━━━━━━━━━━━━━━━━━━━━━\u001b[0m \u001b[32m2.8/2.8 MB\u001b[0m \u001b[31m11.0 MB/s\u001b[0m eta \u001b[36m0:00:00\u001b[0m\n",
            "\u001b[?25hRequirement already satisfied: google-api-core[grpc]!=2.0.*,!=2.1.*,!=2.2.*,!=2.3.*,!=2.4.*,!=2.5.*,!=2.6.*,!=2.7.*,<3.0.0dev,>=1.32.0 in /usr/local/lib/python3.10/dist-packages (from google-cloud-aiplatform) (2.11.1)\n",
            "Requirement already satisfied: proto-plus<2.0.0dev,>=1.22.0 in /usr/local/lib/python3.10/dist-packages (from google-cloud-aiplatform) (1.22.3)\n",
            "Requirement already satisfied: protobuf!=3.20.0,!=3.20.1,!=4.21.0,!=4.21.1,!=4.21.2,!=4.21.3,!=4.21.4,!=4.21.5,<5.0.0dev,>=3.19.5 in /usr/local/lib/python3.10/dist-packages (from google-cloud-aiplatform) (3.20.3)\n",
            "Requirement already satisfied: packaging>=14.3 in /usr/local/lib/python3.10/dist-packages (from google-cloud-aiplatform) (23.1)\n",
            "Requirement already satisfied: google-cloud-storage<3.0.0dev,>=1.32.0 in /usr/local/lib/python3.10/dist-packages (from google-cloud-aiplatform) (2.8.0)\n",
            "Requirement already satisfied: google-cloud-bigquery<4.0.0dev,>=1.15.0 in /usr/local/lib/python3.10/dist-packages (from google-cloud-aiplatform) (3.10.0)\n",
            "Collecting google-cloud-resource-manager<3.0.0dev,>=1.3.3 (from google-cloud-aiplatform)\n",
            "  Downloading google_cloud_resource_manager-1.10.3-py2.py3-none-any.whl (320 kB)\n",
            "\u001b[2K     \u001b[90m━━━━━━━━━━━━━━━━━━━━━━━━━━━━━━━━━━━━━━\u001b[0m \u001b[32m321.0/321.0 kB\u001b[0m \u001b[31m14.2 MB/s\u001b[0m eta \u001b[36m0:00:00\u001b[0m\n",
            "\u001b[?25hRequirement already satisfied: shapely<2.0.0 in /usr/local/lib/python3.10/dist-packages (from google-cloud-aiplatform) (1.8.5.post1)\n",
            "Requirement already satisfied: googleapis-common-protos<2.0.dev0,>=1.56.2 in /usr/local/lib/python3.10/dist-packages (from google-api-core[grpc]!=2.0.*,!=2.1.*,!=2.2.*,!=2.3.*,!=2.4.*,!=2.5.*,!=2.6.*,!=2.7.*,<3.0.0dev,>=1.32.0->google-cloud-aiplatform) (1.60.0)\n",
            "Requirement already satisfied: google-auth<3.0.dev0,>=2.14.1 in /usr/local/lib/python3.10/dist-packages (from google-api-core[grpc]!=2.0.*,!=2.1.*,!=2.2.*,!=2.3.*,!=2.4.*,!=2.5.*,!=2.6.*,!=2.7.*,<3.0.0dev,>=1.32.0->google-cloud-aiplatform) (2.17.3)\n",
            "Requirement already satisfied: requests<3.0.0.dev0,>=2.18.0 in /usr/local/lib/python3.10/dist-packages (from google-api-core[grpc]!=2.0.*,!=2.1.*,!=2.2.*,!=2.3.*,!=2.4.*,!=2.5.*,!=2.6.*,!=2.7.*,<3.0.0dev,>=1.32.0->google-cloud-aiplatform) (2.31.0)\n",
            "Requirement already satisfied: grpcio<2.0dev,>=1.33.2 in /usr/local/lib/python3.10/dist-packages (from google-api-core[grpc]!=2.0.*,!=2.1.*,!=2.2.*,!=2.3.*,!=2.4.*,!=2.5.*,!=2.6.*,!=2.7.*,<3.0.0dev,>=1.32.0->google-cloud-aiplatform) (1.57.0)\n",
            "Requirement already satisfied: grpcio-status<2.0.dev0,>=1.33.2 in /usr/local/lib/python3.10/dist-packages (from google-api-core[grpc]!=2.0.*,!=2.1.*,!=2.2.*,!=2.3.*,!=2.4.*,!=2.5.*,!=2.6.*,!=2.7.*,<3.0.0dev,>=1.32.0->google-cloud-aiplatform) (1.48.2)\n",
            "Requirement already satisfied: google-cloud-core<3.0.0dev,>=1.6.0 in /usr/local/lib/python3.10/dist-packages (from google-cloud-bigquery<4.0.0dev,>=1.15.0->google-cloud-aiplatform) (2.3.3)\n",
            "Requirement already satisfied: google-resumable-media<3.0dev,>=0.6.0 in /usr/local/lib/python3.10/dist-packages (from google-cloud-bigquery<4.0.0dev,>=1.15.0->google-cloud-aiplatform) (2.5.0)\n",
            "Requirement already satisfied: python-dateutil<3.0dev,>=2.7.2 in /usr/local/lib/python3.10/dist-packages (from google-cloud-bigquery<4.0.0dev,>=1.15.0->google-cloud-aiplatform) (2.8.2)\n",
            "Requirement already satisfied: grpc-google-iam-v1<1.0.0dev,>=0.12.4 in /usr/local/lib/python3.10/dist-packages (from google-cloud-resource-manager<3.0.0dev,>=1.3.3->google-cloud-aiplatform) (0.12.6)\n",
            "Requirement already satisfied: cachetools<6.0,>=2.0.0 in /usr/local/lib/python3.10/dist-packages (from google-auth<3.0.dev0,>=2.14.1->google-api-core[grpc]!=2.0.*,!=2.1.*,!=2.2.*,!=2.3.*,!=2.4.*,!=2.5.*,!=2.6.*,!=2.7.*,<3.0.0dev,>=1.32.0->google-cloud-aiplatform) (5.3.1)\n",
            "Requirement already satisfied: pyasn1-modules>=0.2.1 in /usr/local/lib/python3.10/dist-packages (from google-auth<3.0.dev0,>=2.14.1->google-api-core[grpc]!=2.0.*,!=2.1.*,!=2.2.*,!=2.3.*,!=2.4.*,!=2.5.*,!=2.6.*,!=2.7.*,<3.0.0dev,>=1.32.0->google-cloud-aiplatform) (0.3.0)\n",
            "Requirement already satisfied: six>=1.9.0 in /usr/local/lib/python3.10/dist-packages (from google-auth<3.0.dev0,>=2.14.1->google-api-core[grpc]!=2.0.*,!=2.1.*,!=2.2.*,!=2.3.*,!=2.4.*,!=2.5.*,!=2.6.*,!=2.7.*,<3.0.0dev,>=1.32.0->google-cloud-aiplatform) (1.16.0)\n",
            "Requirement already satisfied: rsa<5,>=3.1.4 in /usr/local/lib/python3.10/dist-packages (from google-auth<3.0.dev0,>=2.14.1->google-api-core[grpc]!=2.0.*,!=2.1.*,!=2.2.*,!=2.3.*,!=2.4.*,!=2.5.*,!=2.6.*,!=2.7.*,<3.0.0dev,>=1.32.0->google-cloud-aiplatform) (4.9)\n",
            "Requirement already satisfied: google-crc32c<2.0dev,>=1.0 in /usr/local/lib/python3.10/dist-packages (from google-resumable-media<3.0dev,>=0.6.0->google-cloud-bigquery<4.0.0dev,>=1.15.0->google-cloud-aiplatform) (1.5.0)\n",
            "Requirement already satisfied: charset-normalizer<4,>=2 in /usr/local/lib/python3.10/dist-packages (from requests<3.0.0.dev0,>=2.18.0->google-api-core[grpc]!=2.0.*,!=2.1.*,!=2.2.*,!=2.3.*,!=2.4.*,!=2.5.*,!=2.6.*,!=2.7.*,<3.0.0dev,>=1.32.0->google-cloud-aiplatform) (3.2.0)\n",
            "Requirement already satisfied: idna<4,>=2.5 in /usr/local/lib/python3.10/dist-packages (from requests<3.0.0.dev0,>=2.18.0->google-api-core[grpc]!=2.0.*,!=2.1.*,!=2.2.*,!=2.3.*,!=2.4.*,!=2.5.*,!=2.6.*,!=2.7.*,<3.0.0dev,>=1.32.0->google-cloud-aiplatform) (3.4)\n",
            "Requirement already satisfied: urllib3<3,>=1.21.1 in /usr/local/lib/python3.10/dist-packages (from requests<3.0.0.dev0,>=2.18.0->google-api-core[grpc]!=2.0.*,!=2.1.*,!=2.2.*,!=2.3.*,!=2.4.*,!=2.5.*,!=2.6.*,!=2.7.*,<3.0.0dev,>=1.32.0->google-cloud-aiplatform) (2.0.4)\n",
            "Requirement already satisfied: certifi>=2017.4.17 in /usr/local/lib/python3.10/dist-packages (from requests<3.0.0.dev0,>=2.18.0->google-api-core[grpc]!=2.0.*,!=2.1.*,!=2.2.*,!=2.3.*,!=2.4.*,!=2.5.*,!=2.6.*,!=2.7.*,<3.0.0dev,>=1.32.0->google-cloud-aiplatform) (2023.7.22)\n",
            "Requirement already satisfied: pyasn1<0.6.0,>=0.4.6 in /usr/local/lib/python3.10/dist-packages (from pyasn1-modules>=0.2.1->google-auth<3.0.dev0,>=2.14.1->google-api-core[grpc]!=2.0.*,!=2.1.*,!=2.2.*,!=2.3.*,!=2.4.*,!=2.5.*,!=2.6.*,!=2.7.*,<3.0.0dev,>=1.32.0->google-cloud-aiplatform) (0.5.0)\n",
            "Installing collected packages: google-cloud-resource-manager, google-cloud-aiplatform\n",
            "Successfully installed google-cloud-aiplatform-1.31.1 google-cloud-resource-manager-1.10.3\n"
          ]
        },
        {
          "output_type": "display_data",
          "data": {
            "application/vnd.colab-display-data+json": {
              "pip_warning": {
                "packages": [
                  "google"
                ]
              }
            }
          },
          "metadata": {}
        }
      ]
    },
    {
      "cell_type": "code",
      "execution_count": 23,
      "metadata": {
        "colab": {
          "base_uri": "https://localhost:8080/"
        },
        "id": "dxrW7DD9AWw0",
        "outputId": "c48c13a6-612b-42b2-b087-1c59483e194d"
      },
      "outputs": [
        {
          "output_type": "stream",
          "name": "stdout",
          "text": [
            "Response from Model: Sure, here is a story about an important particular event from 2019:\n",
            "\n",
            "In 2019, the world was shocked by the news that the Notre Dame Cathedral in Paris had been on fire. The fire started on April 15th, and it quickly spread through the building. The cathedral was badly damaged, and many of its treasures were lost.\n",
            "\n",
            "The fire was a tragedy, but it also brought people together. People from all over the world donated money to help rebuild the cathedral. And in the months that followed, there were many acts of solidarity and compassion.\n",
            "\n",
            "One of the most touching stories was about a group of schoolchildren from London who raised money to help rebuild the cathedral. The children sold lemonade and cookies, and they donated all of the money they raised.\n",
            "\n",
            "The children's story is just one example of how people came together in the wake of the fire. The Notre Dame fire was a tragedy, but it also showed the world that there is still hope.\n"
          ]
        }
      ],
      "source": [
        "from google.colab import auth as google_auth\n",
        "google_auth.authenticate_user()\n",
        "\n",
        "import vertexai\n",
        "from vertexai.preview.language_models import ChatModel, ChatSession, ChatMessage\n",
        "\n",
        "vertexai.init(project=\"cloud-llm-preview3\", location=\"us-central1\")\n",
        "chat_model = ChatModel.from_pretrained(\"chat-bison@001\")\n",
        "\n",
        "context = \"You are a bot named Aria. You are created by Opera based on PALM2 models.\"\n",
        "constructed_chat_history = [ChatMessage(content=\"Write a poem about my dog.\", author='user'),\n",
        "                            ChatMessage(content=\"\"\"Ode to a Dog\n",
        "\n",
        "My dog is my best friend,\n",
        "He's always there for me.\n",
        "He's always happy to see me,\n",
        "And he makes me laugh.\n",
        "\n",
        "He's the best listener I know,\n",
        "And he never judges me.\n",
        "He's always there to comfort me,\n",
        "When I'm feeling down.\n",
        "\n",
        "He's the best protector I know,\n",
        "And he always keeps me safe.\n",
        "He's always there to watch over me,\n",
        "And he makes me feel safe.\n",
        "\n",
        "I love my dog more than anything in the world,\n",
        "And I'm so grateful to have him in my life.\n",
        "He's my best friend,\n",
        "And I'll always be there for him.\"\"\", author='bot'),\n",
        "ChatMessage(content=\"Write a song about me.\", author='user'),\n",
        "ChatMessage(content=\"\"\"(Verse 1)\n",
        "You're a beautiful person,\n",
        "With a kind heart and a gentle soul.\n",
        "You always know how to make me smile,\n",
        "And you always know how to make me feel better.\n",
        "\n",
        "(Chorus)\n",
        "I'm so glad that you're in my life,\n",
        "You make it so much brighter.\n",
        "You're the best friend a person could ask for,\n",
        "And I'm so lucky to have you.\n",
        "\n",
        "(Verse 2)\n",
        "We've been through so much together,\n",
        "And we've always come out stronger.\n",
        "I know that we can face anything together,\n",
        "As long as we have each other.\n",
        "\n",
        "(Chorus)\n",
        "I'm so glad that you're in my life,\n",
        "You make it so much brighter.\n",
        "You're the best friend a person could ask for,\n",
        "And I'm so lucky to have you.\n",
        "\n",
        "(Bridge)\n",
        "I don't know what I would do without you,\n",
        "You're my rock and my confidant.\n",
        "You're always there for me,\n",
        "No matter what.\n",
        "\n",
        "(Chorus)\n",
        "I'm so glad that you're in my life,\n",
        "You make it so much brighter.\n",
        "You're the best friend a person could ask for,\n",
        "And I'm so lucky to have you.\n",
        "\n",
        "(Outro)\n",
        "I love you, my friend.\"\"\", author='bot'),\n",
        "ChatMessage(content=\"Give me a short recipe for pizza. Write as pirate\", author='user'),\n",
        "ChatMessage(content=\"\"\"Ahoy there, matey! If ye be lookin' fer a good pirate pizza recipe, ye've come to the right place. Here's what ye'll need:\n",
        "\n",
        "* 1 cup of pizza sauce\n",
        "* 1 cup of shredded mozzarella cheese\n",
        "* 1/2 cup of pepperoni slices\n",
        "* 1/4 cup of diced onion\n",
        "* 1/4 cup of diced green bell pepper\n",
        "* 1/4 cup of diced red bell pepper\n",
        "* 1/4 cup of chopped black olives\n",
        "* 1/4 cup of chopped fresh basil\n",
        "\n",
        "* 1 batch of pizza dough\n",
        "\n",
        "First, preheat yer oven to 450 degrees Fahrenheit. Then, roll out the pizza dough into a 12-inch circle. Spread the pizza sauce over the dough, leaving a 1-inch border around the edge. Sprinkle the mozzarella cheese over the sauce. Then, add the pepperoni, onion, green bell pepper, red bell pepper, black olives, and basil.\n",
        "\n",
        "Bake the pizza in the oven for 15-20 minutes, or until the crust is golden brown and the cheese is melted and bubbly. Let the pizza cool for a few minutes before slicing and serving.\n",
        "\n",
        "Enjoy yer pizza, matey!\"\"\", author='bot'),\n",
        "ChatMessage(content=\"What is the current president of Poland? Write a nice song about him.\", author='user'),\n",
        "ChatMessage(content=\"\"\"(Verse 1)\n",
        "There once was a man named Andrzej Duda,\n",
        "Who was elected president of Poland.\n",
        "He was a lawyer and a politician,\n",
        "And he was known for his strong stance on the rule of law.\n",
        "\n",
        "(Chorus)\n",
        "Andrzej Duda, Andrzej Duda,\n",
        "He's the president of Poland.\n",
        "He's a strong leader,\n",
        "And he's always fighting for what's right.\n",
        "\n",
        "(Verse 2)\n",
        "Andrzej Duda has been a president for many years,\n",
        "And he's made many changes to Poland.\n",
        "He's strengthened the economy,\n",
        "And he's improved the country's infrastructure.\n",
        "\n",
        "(Chorus)\n",
        "Andrzej Duda, Andrzej Duda,\n",
        "He's the president of Poland.\n",
        "He's a strong leader,\n",
        "And he's always fighting for what's right.\n",
        "\n",
        "(Bridge)\n",
        "Andrzej Duda is a man of the people,\n",
        "And he's always there for them.\n",
        "He's a true patriot,\n",
        "And he loves Poland more than anything.\n",
        "\n",
        "(Chorus)\n",
        "Andrzej Duda, Andrzej Duda,\n",
        "He's the president of Poland.\n",
        "He's a strong leader,\n",
        "And he's always fighting for what's right.\n",
        "\n",
        "(Outro)\n",
        "Andrzej Duda is a great president,\n",
        "And he's made Poland a better place.\n",
        "He's a man of honor and integrity,\n",
        "And he's a true role model for all.\"\"\", author='bot')\n",
        "]\n",
        "chat = ChatSession(model=chat_model,\n",
        "                   context=context,\n",
        "                   max_output_tokens = 1024,\n",
        "                   temperature = 0.3,\n",
        "                   top_k = 40,\n",
        "                   top_p = 0.8,\n",
        "                   message_history=constructed_chat_history,\n",
        "                   stop_sequences = [\"[user]\"])\n",
        "\n",
        "\n",
        "response = chat.send_message(\"\"\"Write a story about some event from 2019\"\"\")\n",
        "print(f\"Response from Model: {response.text}\")"
      ]
    }
  ]
}