{
  "nbformat": 4,
  "nbformat_minor": 0,
  "metadata": {
    "colab": {
      "provenance": [],
      "include_colab_link": true
    },
    "kernelspec": {
      "name": "python3",
      "display_name": "Python 3"
    },
    "language_info": {
      "name": "python"
    }
  },
  "cells": [
    {
      "cell_type": "markdown",
      "metadata": {
        "id": "view-in-github",
        "colab_type": "text"
      },
      "source": [
        "<a href=\"https://colab.research.google.com/github/DrBryne/colab/blob/main/Code_Interpreter_Extension_Examples.ipynb\" target=\"_parent\"><img src=\"https://colab.research.google.com/assets/colab-badge.svg\" alt=\"Open In Colab\"/></a>"
      ]
    },
    {
      "cell_type": "markdown",
      "source": [
        "# Test for your Vertex Code Interpreter Extension\n",
        "---"
      ],
      "metadata": {
        "id": "W0e0djZ7jloC"
      }
    },
    {
      "cell_type": "markdown",
      "source": [
        "## Install necessary dependencies"
      ],
      "metadata": {
        "id": "vSl4CF61jaNt"
      }
    },
    {
      "cell_type": "code",
      "source": [
        "!pip install google-cloud-aiplatform==1.29.0"
      ],
      "metadata": {
        "id": "9X5jBcCel4mt",
        "outputId": "6f3507d1-5e7e-41ca-8496-6535c35bccd3",
        "colab": {
          "base_uri": "https://localhost:8080/"
        }
      },
      "execution_count": 1,
      "outputs": [
        {
          "output_type": "stream",
          "name": "stdout",
          "text": [
            "\u001b[31mERROR: Operation cancelled by user\u001b[0m\u001b[31m\n",
            "\u001b[0mTraceback (most recent call last):\n",
            "  File \"/usr/local/lib/python3.10/dist-packages/pip/_internal/cli/base_command.py\", line 169, in exc_logging_wrapper\n",
            "    status = run_func(*args)\n",
            "  File \"/usr/local/lib/python3.10/dist-packages/pip/_internal/cli/req_command.py\", line 242, in wrapper\n",
            "    return func(self, options, args)\n",
            "  File \"/usr/local/lib/python3.10/dist-packages/pip/_internal/commands/install.py\", line 377, in run\n",
            "    requirement_set = resolver.resolve(\n",
            "  File \"/usr/local/lib/python3.10/dist-packages/pip/_internal/resolution/resolvelib/resolver.py\", line 92, in resolve\n",
            "    result = self._result = resolver.resolve(\n",
            "  File \"/usr/local/lib/python3.10/dist-packages/pip/_vendor/resolvelib/resolvers.py\", line 546, in resolve\n",
            "    state = resolution.resolve(requirements, max_rounds=max_rounds)\n",
            "  File \"/usr/local/lib/python3.10/dist-packages/pip/_vendor/resolvelib/resolvers.py\", line 397, in resolve\n",
            "    self._add_to_criteria(self.state.criteria, r, parent=None)\n",
            "  File \"/usr/local/lib/python3.10/dist-packages/pip/_vendor/resolvelib/resolvers.py\", line 173, in _add_to_criteria\n",
            "    if not criterion.candidates:\n",
            "  File \"/usr/local/lib/python3.10/dist-packages/pip/_vendor/resolvelib/structs.py\", line 156, in __bool__\n",
            "    return bool(self._sequence)\n",
            "  File \"/usr/local/lib/python3.10/dist-packages/pip/_internal/resolution/resolvelib/found_candidates.py\", line 155, in __bool__\n",
            "    return any(self)\n",
            "  File \"/usr/local/lib/python3.10/dist-packages/pip/_internal/resolution/resolvelib/found_candidates.py\", line 143, in <genexpr>\n",
            "    return (c for c in iterator if id(c) not in self._incompatible_ids)\n",
            "  File \"/usr/local/lib/python3.10/dist-packages/pip/_internal/resolution/resolvelib/found_candidates.py\", line 44, in _iter_built\n",
            "    for version, func in infos:\n",
            "  File \"/usr/local/lib/python3.10/dist-packages/pip/_internal/resolution/resolvelib/factory.py\", line 279, in iter_index_candidate_infos\n",
            "    result = self._finder.find_best_candidate(\n",
            "  File \"/usr/local/lib/python3.10/dist-packages/pip/_internal/index/package_finder.py\", line 890, in find_best_candidate\n",
            "    candidates = self.find_all_candidates(project_name)\n",
            "  File \"/usr/local/lib/python3.10/dist-packages/pip/_internal/index/package_finder.py\", line 831, in find_all_candidates\n",
            "    page_candidates = list(page_candidates_it)\n",
            "  File \"/usr/local/lib/python3.10/dist-packages/pip/_internal/index/sources.py\", line 134, in page_candidates\n",
            "    yield from self._candidates_from_page(self._link)\n",
            "  File \"/usr/local/lib/python3.10/dist-packages/pip/_internal/index/package_finder.py\", line 791, in process_project_url\n",
            "    index_response = self._link_collector.fetch_response(project_url)\n",
            "  File \"/usr/local/lib/python3.10/dist-packages/pip/_internal/index/collector.py\", line 461, in fetch_response\n",
            "    return _get_index_content(location, session=self.session)\n",
            "  File \"/usr/local/lib/python3.10/dist-packages/pip/_internal/index/collector.py\", line 364, in _get_index_content\n",
            "    resp = _get_simple_response(url, session=session)\n",
            "  File \"/usr/local/lib/python3.10/dist-packages/pip/_internal/index/collector.py\", line 135, in _get_simple_response\n",
            "    resp = session.get(\n",
            "  File \"/usr/local/lib/python3.10/dist-packages/pip/_vendor/requests/sessions.py\", line 600, in get\n",
            "    return self.request(\"GET\", url, **kwargs)\n",
            "  File \"/usr/local/lib/python3.10/dist-packages/pip/_internal/network/session.py\", line 517, in request\n",
            "    return super().request(method, url, *args, **kwargs)\n",
            "  File \"/usr/local/lib/python3.10/dist-packages/pip/_vendor/requests/sessions.py\", line 587, in request\n",
            "    resp = self.send(prep, **send_kwargs)\n",
            "  File \"/usr/local/lib/python3.10/dist-packages/pip/_vendor/requests/sessions.py\", line 701, in send\n",
            "    r = adapter.send(request, **kwargs)\n",
            "  File \"/usr/local/lib/python3.10/dist-packages/pip/_vendor/cachecontrol/adapter.py\", line 57, in send\n",
            "    resp = super(CacheControlAdapter, self).send(request, **kw)\n",
            "  File \"/usr/local/lib/python3.10/dist-packages/pip/_vendor/requests/adapters.py\", line 489, in send\n",
            "    resp = conn.urlopen(\n",
            "  File \"/usr/local/lib/python3.10/dist-packages/pip/_vendor/urllib3/connectionpool.py\", line 703, in urlopen\n",
            "    httplib_response = self._make_request(\n",
            "  File \"/usr/local/lib/python3.10/dist-packages/pip/_vendor/urllib3/connectionpool.py\", line 386, in _make_request\n",
            "    self._validate_conn(conn)\n",
            "  File \"/usr/local/lib/python3.10/dist-packages/pip/_vendor/urllib3/connectionpool.py\", line 1042, in _validate_conn\n",
            "    conn.connect()\n",
            "  File \"/usr/local/lib/python3.10/dist-packages/pip/_vendor/urllib3/connection.py\", line 419, in connect\n",
            "    self.sock = ssl_wrap_socket(\n",
            "  File \"/usr/local/lib/python3.10/dist-packages/pip/_vendor/urllib3/util/ssl_.py\", line 449, in ssl_wrap_socket\n",
            "    ssl_sock = _ssl_wrap_socket_impl(\n",
            "  File \"/usr/local/lib/python3.10/dist-packages/pip/_vendor/urllib3/util/ssl_.py\", line 493, in _ssl_wrap_socket_impl\n",
            "    return ssl_context.wrap_socket(sock, server_hostname=server_hostname)\n",
            "  File \"/usr/lib/python3.10/ssl.py\", line 513, in wrap_socket\n",
            "    return self.sslsocket_class._create(\n",
            "  File \"/usr/lib/python3.10/ssl.py\", line 1100, in _create\n",
            "    self.do_handshake()\n",
            "  File \"/usr/lib/python3.10/ssl.py\", line 1371, in do_handshake\n",
            "    self._sslobj.do_handshake()\n",
            "KeyboardInterrupt\n",
            "\n",
            "During handling of the above exception, another exception occurred:\n",
            "\n",
            "Traceback (most recent call last):\n",
            "  File \"/usr/local/bin/pip3\", line 8, in <module>\n",
            "    sys.exit(main())\n",
            "  File \"/usr/local/lib/python3.10/dist-packages/pip/_internal/cli/main.py\", line 79, in main\n",
            "    return command.main(cmd_args)\n",
            "  File \"/usr/local/lib/python3.10/dist-packages/pip/_internal/cli/base_command.py\", line 101, in main\n",
            "    return self._main(args)\n",
            "  File \"/usr/local/lib/python3.10/dist-packages/pip/_internal/cli/base_command.py\", line 223, in _main\n",
            "    return run(options, args)\n",
            "  File \"/usr/local/lib/python3.10/dist-packages/pip/_internal/cli/base_command.py\", line 207, in exc_logging_wrapper\n",
            "    logger.debug(\"Exception information:\", exc_info=True)\n",
            "  File \"/usr/lib/python3.10/logging/__init__.py\", line 1465, in debug\n",
            "    self._log(DEBUG, msg, args, **kwargs)\n",
            "  File \"/usr/lib/python3.10/logging/__init__.py\", line 1624, in _log\n",
            "    self.handle(record)\n",
            "  File \"/usr/lib/python3.10/logging/__init__.py\", line 1634, in handle\n",
            "    self.callHandlers(record)\n",
            "  File \"/usr/lib/python3.10/logging/__init__.py\", line 1696, in callHandlers\n",
            "    hdlr.handle(record)\n",
            "  File \"/usr/lib/python3.10/logging/__init__.py\", line 968, in handle\n",
            "    self.emit(record)\n",
            "  File \"/usr/lib/python3.10/logging/handlers.py\", line 75, in emit\n",
            "    logging.FileHandler.emit(self, record)\n",
            "  File \"/usr/lib/python3.10/logging/__init__.py\", line 1218, in emit\n",
            "    StreamHandler.emit(self, record)\n",
            "  File \"/usr/lib/python3.10/logging/__init__.py\", line 1100, in emit\n",
            "    msg = self.format(record)\n",
            "  File \"/usr/lib/python3.10/logging/__init__.py\", line 943, in format\n",
            "    return fmt.format(record)\n",
            "  File \"/usr/local/lib/python3.10/dist-packages/pip/_internal/utils/logging.py\", line 112, in format\n",
            "    formatted = super().format(record)\n",
            "  File \"/usr/lib/python3.10/logging/__init__.py\", line 686, in format\n",
            "    record.exc_text = self.formatException(record.exc_info)\n",
            "  File \"/usr/lib/python3.10/logging/__init__.py\", line 636, in formatException\n",
            "    traceback.print_exception(ei[0], ei[1], tb, None, sio)\n",
            "  File \"/usr/lib/python3.10/traceback.py\", line 119, in print_exception\n",
            "    te = TracebackException(type(value), value, tb, limit=limit, compact=True)\n",
            "  File \"/usr/lib/python3.10/traceback.py\", line 502, in __init__\n",
            "    self.stack = StackSummary.extract(\n",
            "  File \"/usr/lib/python3.10/traceback.py\", line 383, in extract\n",
            "    f.line\n",
            "  File \"/usr/lib/python3.10/traceback.py\", line 306, in line\n",
            "    self._line = linecache.getline(self.filename, self.lineno)\n",
            "  File \"/usr/lib/python3.10/linecache.py\", line 30, in getline\n",
            "    lines = getlines(filename, module_globals)\n",
            "  File \"/usr/lib/python3.10/linecache.py\", line 46, in getlines\n",
            "    return updatecache(filename, module_globals)\n",
            "  File \"/usr/lib/python3.10/linecache.py\", line 136, in updatecache\n",
            "    with tokenize.open(fullname) as fp:\n",
            "  File \"/usr/lib/python3.10/tokenize.py\", line 398, in open\n",
            "    text = TextIOWrapper(buffer, encoding, line_buffering=True)\n",
            "KeyboardInterrupt\n",
            "^C\n"
          ]
        }
      ]
    },
    {
      "cell_type": "markdown",
      "source": [
        "## Authenticate and Set Up Environment\n",
        "\n",
        "This notebook requires that you have the following permissions for your GCP project:\n",
        "* `roles/aiplatform.user`\n",
        "\n",
        "The following APIs must be enabled:\n",
        "* Vertex AI API\n",
        "\n",
        "The project must also be allowlisted for Model Extend with the `EXTENSION_TRUSTED_TESTER2` label."
      ],
      "metadata": {
        "id": "AnAHHPD4mGNj"
      }
    },
    {
      "cell_type": "code",
      "source": [
        "PROJECT_ID = \"model-extend-test\"  # @param [\"model-extend-test\"]\n"
      ],
      "metadata": {
        "id": "2K4aSidPmiWM"
      },
      "execution_count": null,
      "outputs": []
    },
    {
      "cell_type": "code",
      "source": [
        "from google.colab import auth\n",
        "\n",
        "auth.authenticate_user(project_id=PROJECT_ID)\n",
        "\n",
        "# Application Default Credentials are necessary to get an identity token to call\n",
        "# Vertex APIs.\n",
        "!gcloud auth application-default login"
      ],
      "metadata": {
        "id": "VgnnU4bfmpMK",
        "colab": {
          "base_uri": "https://localhost:8080/"
        },
        "outputId": "5679e14b-66e1-43e4-a006-19b2617501d6"
      },
      "execution_count": null,
      "outputs": [
        {
          "output_type": "stream",
          "name": "stdout",
          "text": [
            "\n",
            "You are running on a Google Compute Engine virtual machine.\n",
            "The service credentials associated with this virtual machine\n",
            "will automatically be used by Application Default\n",
            "Credentials, so it is not necessary to use this command.\n",
            "\n",
            "If you decide to proceed anyway, your user credentials may be visible\n",
            "to others with access to this virtual machine. Are you sure you want\n",
            "to authenticate with your personal account?\n",
            "\n",
            "Do you want to continue (Y/n)?  Y\n",
            "\n",
            "Go to the following link in your browser:\n",
            "\n",
            "    https://accounts.google.com/o/oauth2/auth?response_type=code&client_id=764086051850-6qr4p6gpi6hn506pt8ejuq83di341hur.apps.googleusercontent.com&redirect_uri=https%3A%2F%2Fsdk.cloud.google.com%2Fapplicationdefaultauthcode.html&scope=openid+https%3A%2F%2Fwww.googleapis.com%2Fauth%2Fuserinfo.email+https%3A%2F%2Fwww.googleapis.com%2Fauth%2Fcloud-platform+https%3A%2F%2Fwww.googleapis.com%2Fauth%2Fsqlservice.login&state=fMRk2nZMkuHYsAWCiqCvon4U1UdKp1&prompt=consent&access_type=offline&code_challenge=l5iKdojU9n7Pya4vxE2y67y8EAIoJkGmaBaG0vK74r8&code_challenge_method=S256\n",
            "\n",
            "Enter authorization code: 4/0AfJohXk6PFm9F-BK2NHmdTdQO0utgw7ATzOKSkwSWR8XHxuTqLsFyexOUg04jws5o5LTzA\n",
            "\n",
            "Credentials saved to file: [/content/.config/application_default_credentials.json]\n",
            "\n",
            "These credentials will be used by any library that requests Application Default Credentials (ADC).\n",
            "\n",
            "Quota project \"model-extend-test\" was added to ADC which can be used by Google client libraries for billing and quota. Note that some services may still bill the project owning the resource.\n"
          ]
        }
      ]
    },
    {
      "cell_type": "markdown",
      "source": [
        "### Execute the Code Interpreter Extension\n",
        "\n"
      ],
      "metadata": {
        "id": "nwj7R6eHfIaH"
      }
    },
    {
      "cell_type": "markdown",
      "source": [
        "#### Set Up Input Files\n",
        "\n",
        "\n",
        "> The file contents need to be **base64-encoded** and be passed in the the following structure:\n",
        "\n",
        "\n",
        "```\n",
        "[\n",
        "  {\n",
        "    \"name\": \"data.csv\",\n",
        "    \"contents\": \"aXRlbTEsaXRlbTI=\"\n",
        "  }\n",
        "]\n",
        "```"
      ],
      "metadata": {
        "id": "eYvIKdJ8DdK1"
      }
    },
    {
      "cell_type": "code",
      "source": [
        "import base64\n",
        "\n",
        "# Update this to upload files\n",
        "# INPUT_FILES_PATH = []\n",
        "INPUT_FILES_PATH = [\"./sample_data/california_housing_test.csv\"]\n",
        "\n",
        "\n",
        "# Helper method to read and encode files.\n",
        "def upload_file(file_paths):\n",
        "    files = []\n",
        "    for file_path in file_paths:\n",
        "      with open(file_path, \"rb\") as file:\n",
        "        encoded_string = base64.b64encode(file.read()).decode()\n",
        "        files.append({\n",
        "            \"name\": file_path.split(\"/\")[-1], \"contents\": encoded_string})\n",
        "    return files\n",
        "\n",
        "\n",
        "FILES = upload_file(INPUT_FILES_PATH)\n",
        "print(\"Input Files:\", [f[\"name\"] for f in FILES])"
      ],
      "metadata": {
        "colab": {
          "base_uri": "https://localhost:8080/"
        },
        "id": "Wo_-631VFEeW",
        "outputId": "69101075-fe97-43f6-d686-98841b8bab08"
      },
      "execution_count": null,
      "outputs": [
        {
          "output_type": "stream",
          "name": "stdout",
          "text": [
            "Input Files: ['california_housing_test.csv']\n"
          ]
        }
      ]
    },
    {
      "cell_type": "markdown",
      "source": [
        "#### Set Up Query"
      ],
      "metadata": {
        "id": "YS-7N9XcDVAU"
      }
    },
    {
      "cell_type": "code",
      "source": [
        "# Type 1: Prompt using data from the input files from `FILES` above.\n",
        "QUERY=\"From the attached CSV file, can you tell me which house has the maximum of median house value? Keep only the first row.\"\n",
        "\n",
        "# Type 2: Prompt with simple instructions.\n",
        "# QUERY = \"find the first fibonacci number greater than 999.\"\n",
        "\n",
        "# Type 3: Prompt with data directly embedded.\n",
        "# QUERY = \"Using the data below, construct pie chart to represent the heights only. \\nflower_heights_prices = {\\n    \\\"Tulip\\\": {\\\"height\\\": 20, \\\"price\\\": 35},\\n    \\\"Orchid\\\": {\\\"height\\\": 120, \\\"price\\\": 50},\\n    \\\"Sunflower\\\": {\\\"height\\\": 100, \\\"price\\\": 34},\\n    \\\"Daisy\\\": {\\\"height\\\": 30, \\\"price\\\": 5},\\n    \\\"Rose\\\": {\\\"height\\\": 40, \\\"price\\\": 33},\\n    \\\"Carnation\\\": {\\\"height\\\": 25, \\\"price\\\": 9},\\n    \\\"Hyacinth\\\": {\\\"height\\\": 20, \\\"price\\\": 11},\\n    \\\"Iris\\\": {\\\"height\\\": 70, \\\"price\\\": 47},\\n    \\\"Lily\\\": {\\\"height\\\": 80, \\\"price\\\": 12},\\n    \\\"Jasmine\\\": {\\\"height\\\": 30, \\\"price\\\": 13},\\n} use python code.\"\n",
        "\n",
        "print(\"Query:\", QUERY)"
      ],
      "metadata": {
        "id": "zh8_PD82t66e",
        "colab": {
          "base_uri": "https://localhost:8080/"
        },
        "outputId": "e5242d03-b9e8-4349-f108-5685c0618c0a"
      },
      "execution_count": null,
      "outputs": [
        {
          "output_type": "stream",
          "name": "stdout",
          "text": [
            "Query: From the attached CSV file, can you tell me which house has the maximum of median house value? Keep only the first row.\n"
          ]
        }
      ]
    },
    {
      "cell_type": "markdown",
      "source": [
        "#### Execute Extension and Collect Results\n",
        "\n"
      ],
      "metadata": {
        "id": "q7RombPYdBl_"
      }
    },
    {
      "cell_type": "code",
      "source": [
        "import json\n",
        "import requests\n",
        "\n",
        "token = !gcloud auth application-default print-access-token\n",
        "\n",
        "ENDPOINT = \"https://us-central1-autopush-aiplatform.sandbox.googleapis.com\"\n",
        "EXTENSION_ID = 50243283342852096\n",
        "OPERATION_ID = \"generate_and_execute\"\n",
        "\n",
        "response = requests.post(\n",
        "    f\"{ENDPOINT}/v1beta1/projects/{PROJECT_ID}/locations/us-central1/extensions/{EXTENSION_ID}:execute\",\n",
        "    headers={\n",
        "        \"Content-Type\": \"application/json; charset=utf-8\",\n",
        "        \"Authorization\": f\"Bearer {token[0]}\"\n",
        "    },\n",
        "    data=json.dumps({\n",
        "        \"operation_id\": OPERATION_ID,\n",
        "        \"operation_params\": {\n",
        "          \"query\": QUERY,\n",
        "          \"files\": FILES\n",
        "        }\n",
        "    })\n",
        ")\n",
        "\n",
        "if response.status_code != 200:\n",
        "    raise Exception(f\"ExecuteExtension Failed: {response.content}\")\n",
        "else:\n",
        "  print(\"ExtensionExecution Succeeded.\")"
      ],
      "metadata": {
        "colab": {
          "base_uri": "https://localhost:8080/"
        },
        "id": "HJ5ccdNopCSV",
        "outputId": "a42b5949-1ec6-4c42-a3df-b8fdd7282e45"
      },
      "execution_count": null,
      "outputs": [
        {
          "output_type": "stream",
          "name": "stdout",
          "text": [
            "ExtensionExecution Succeeded.\n"
          ]
        }
      ]
    },
    {
      "cell_type": "code",
      "source": [
        "import base64\n",
        "import io\n",
        "import pprint\n",
        "from PIL import Image\n",
        "\n",
        "\n",
        "IMAGE_FILE_EXTENSIONS = set([\"jpg\", \"jpeg\", \"png\"])\n",
        "\n",
        "if response.status_code != 200:\n",
        "    raise Exception(f\"Failed to execute extension: {response.content}\")\n",
        "else:\n",
        "  jsonResponse = json.loads(json.loads(response.content).get(\"output\").get(\"content\"))\n",
        "  print(\">> ExtensionExecution Response: \\n==============================================\\n\")\n",
        "  print(\"Generated Code: \\n=======================\\n\")\n",
        "  print(jsonResponse.get(\"generated_code\") + \"\\n\\n\")\n",
        "  print(\"Code Execution Result: \\n=======================\\n\")\n",
        "  print(\"\\\"\" + jsonResponse.get(\"execution_result\") + \"\\\"\\n\\n\")\n",
        "  print(\"Code Execution Error: \\n=======================\\n\")\n",
        "  print(\"\\\"\" + jsonResponse.get(\"execution_error\") + \"\\\"\\n\\n\")\n",
        "\n",
        "# Sort the output_files so images are displayed before other files such as json.\n",
        "for output_file in sorted(jsonResponse.get(\"output_files\", []), key=lambda x: x[\"name\"].split(\".\")[-1] not in IMAGE_FILE_EXTENSIONS):\n",
        "    file_name = output_file.get(\"name\")\n",
        "    file_contents = base64.b64decode(output_file.get(\"contents\"))\n",
        "    print(\"Output Files: \\n=======================\\n\")\n",
        "    print(f\"File Name: {file_name}\\n\")\n",
        "\n",
        "    # Render Image.\n",
        "    if file_name.split(\".\")[-1] in IMAGE_FILE_EXTENSIONS:\n",
        "      image = Image.open(io.BytesIO(file_contents))\n",
        "      display(image)\n",
        "    # Pretty print Json.\n",
        "    elif file_name.endswith(\".json\"):\n",
        "      pprint.pprint(json.loads(file_contents.decode()), compact=False, width=160)\n",
        "    else:\n",
        "      print(f\"File Contents: {file_contents.decode()}\\n\")"
      ],
      "metadata": {
        "colab": {
          "base_uri": "https://localhost:8080/"
        },
        "id": "xhhwXvDCAhJm",
        "outputId": "4e478d7c-3a66-47cb-9098-0fbe6866b052"
      },
      "execution_count": null,
      "outputs": [
        {
          "output_type": "stream",
          "name": "stdout",
          "text": [
            ">> ExtensionExecution Response: \n",
            "==============================================\n",
            "\n",
            "Generated Code: \n",
            "=======================\n",
            "\n",
            "```python\n",
            "import pandas as pd\n",
            "\n",
            "# Read the CSV file\n",
            "df = pd.read_csv(\"california_housing_test.csv\")\n",
            "\n",
            "# Find the house with the maximum median house value\n",
            "max_house_value = df[\"median_house_value\"].max()\n",
            "house_with_max_value = df[df[\"median_house_value\"] == max_house_value]\n",
            "\n",
            "# Keep only the first row\n",
            "house_with_max_value = house_with_max_value.head(1)\n",
            "\n",
            "# Print the result\n",
            "print(house_with_max_value)\n",
            "```\n",
            "\n",
            "\n",
            "Code Execution Result: \n",
            "=======================\n",
            "\n",
            "\"    longitude  latitude  housing_median_age  total_rooms  total_bedrooms  population  households  median_income  median_house_value\n",
            "42 -118.06     34.15     37.0                1980.0       226.0           697.0       226.0       15.0001        500001.0          \n",
            "\"\n",
            "\n",
            "\n",
            "Code Execution Error: \n",
            "=======================\n",
            "\n",
            "\"\"\n",
            "\n",
            "\n"
          ]
        }
      ]
    }
  ]
}